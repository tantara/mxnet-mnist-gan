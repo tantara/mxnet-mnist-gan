{
 "cells": [
  {
   "cell_type": "code",
   "execution_count": 1,
   "metadata": {
    "collapsed": true
   },
   "outputs": [],
   "source": [
    "import os, gzip\n",
    "import pickle as pickle\n",
    "import sys\n",
    "\n",
    "# download mnist.pkl.gz\n",
    "def GetMNIST_pkl():\n",
    "    if not os.path.isdir(\"data/\"):\n",
    "        os.system(\"mkdir data/\")\n",
    "    if not os.path.exists('data/mnist.pkl.gz'):\n",
    "        os.system(\"wget -q http://deeplearning.net/data/mnist/mnist.pkl.gz -P data/\")\n",
    "\n",
    "# download ubyte version of mnist and untar\n",
    "def GetMNIST_ubyte():\n",
    "    if not os.path.isdir(\"data/\"):\n",
    "        os.system(\"mkdir data/\")\n",
    "    if (not os.path.exists('data/train-images-idx3-ubyte')) or \\\n",
    "       (not os.path.exists('data/train-labels-idx1-ubyte')) or \\\n",
    "       (not os.path.exists('data/t10k-images-idx3-ubyte')) or \\\n",
    "       (not os.path.exists('data/t10k-labels-idx1-ubyte')):\n",
    "        os.system(\"wget -q http://data.mxnet.io/mxnet/data/mnist.zip -P data/\")\n",
    "        os.chdir(\"./data\")\n",
    "        os.system(\"unzip -u mnist.zip\")\n",
    "        os.chdir(\"..\")\n",
    "\n",
    "# download cifar\n",
    "def GetCifar10():\n",
    "    if not os.path.isdir(\"data/\"):\n",
    "        os.system(\"mkdir data/\")\n",
    "    if (not os.path.exists('data/cifar/train.rec')) or \\\n",
    "       (not os.path.exists('data/cifar/test.rec')) or \\\n",
    "       (not os.path.exists('data/cifar/train.lst')) or \\\n",
    "       (not os.path.exists('data/cifar/test.lst')):\n",
    "        os.system(\"wget -q http://data.mxnet.io/mxnet/data/cifar10.zip -P data/\")\n",
    "        os.chdir(\"./data\")\n",
    "        os.system(\"unzip -u cifar10.zip\")\n",
    "        os.chdir(\"..\")"
   ]
  },
  {
   "cell_type": "code",
   "execution_count": 2,
   "metadata": {
    "collapsed": true
   },
   "outputs": [],
   "source": [
    "GetMNIST_ubyte()"
   ]
  },
  {
   "cell_type": "code",
   "execution_count": null,
   "metadata": {
    "collapsed": true
   },
   "outputs": [],
   "source": []
  }
 ],
 "metadata": {
  "kernelspec": {
   "display_name": "Python 3",
   "language": "python",
   "name": "python3"
  },
  "language_info": {
   "codemirror_mode": {
    "name": "ipython",
    "version": 3
   },
   "file_extension": ".py",
   "mimetype": "text/x-python",
   "name": "python",
   "nbconvert_exporter": "python",
   "pygments_lexer": "ipython3",
   "version": "3.5.2"
  }
 },
 "nbformat": 4,
 "nbformat_minor": 2
}
