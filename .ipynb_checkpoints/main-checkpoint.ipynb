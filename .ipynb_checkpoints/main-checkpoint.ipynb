{
 "cells": [
  {
   "cell_type": "code",
   "execution_count": 1,
   "metadata": {
    "collapsed": true
   },
   "outputs": [],
   "source": [
    "import mxnet as mx"
   ]
  },
  {
   "cell_type": "code",
   "execution_count": 2,
   "metadata": {
    "collapsed": true
   },
   "outputs": [],
   "source": [
    "# import io, os, sys, types\n",
    "\n",
    "# import nbformat\n",
    "\n",
    "# from IPython import get_ipython\n",
    "# from IPython.core.interactiveshell import InteractiveShell\n",
    "\n",
    "# def find_notebook(fullname, path=None):\n",
    "#     \"\"\"find a notebook, given its fully qualified name and an optional path\n",
    "    \n",
    "#     This turns \"foo.bar\" into \"foo/bar.ipynb\"\n",
    "#     and tries turning \"Foo_Bar\" into \"Foo Bar\" if Foo_Bar\n",
    "#     does not exist.\n",
    "#     \"\"\"\n",
    "#     name = fullname.rsplit('.', 1)[-1]\n",
    "#     if not path:\n",
    "#         path = ['']\n",
    "#     for d in path:\n",
    "#         nb_path = os.path.join(d, name + \".ipynb\")\n",
    "#         if os.path.isfile(nb_path):\n",
    "#             return nb_path\n",
    "#         # let import Notebook_Name find \"Notebook Name.ipynb\"\n",
    "#         nb_path = nb_path.replace(\"_\", \" \")\n",
    "#         if os.path.isfile(nb_path):\n",
    "#             return nb_path\n",
    "        \n",
    "# class NotebookLoader(object):\n",
    "#     \"\"\"Module Loader for IPython Notebooks\"\"\"\n",
    "#     def __init__(self, path=None):\n",
    "#         self.shell = InteractiveShell.instance()\n",
    "#         self.path = path\n",
    "    \n",
    "#     def load_module(self, fullname):\n",
    "#         \"\"\"import a notebook as a module\"\"\"\n",
    "#         path = find_notebook(fullname, self.path)\n",
    "        \n",
    "#         print (\"importing notebook from %s\" % path)\n",
    "                                       \n",
    "#         # load the notebook object\n",
    "#         nb = nbformat.read(path, as_version=4)\n",
    "        \n",
    "        \n",
    "#         # create the module and add it to sys.modules\n",
    "#         # if name in sys.modules:\n",
    "#         #    return sys.modules[name]\n",
    "#         mod = types.ModuleType(fullname)\n",
    "#         mod.__file__ = path\n",
    "#         mod.__loader__ = self\n",
    "#         mod.__dict__['get_ipython'] = get_ipython\n",
    "#         sys.modules[fullname] = mod\n",
    "        \n",
    "#         # extra work to ensure that magics that would affect the user_ns\n",
    "#         # actually affect the notebook module's ns\n",
    "#         save_user_ns = self.shell.user_ns\n",
    "#         self.shell.user_ns = mod.__dict__\n",
    "        \n",
    "#         try:\n",
    "#             for cell in nb.cells:\n",
    "#                 if cell.cell_type == 'code':\n",
    "#                     # transform the input to executable Python\n",
    "#                     code = self.shell.input_transformer_manager.transform_cell(cell.source)\n",
    "#                     # run the code in themodule\n",
    "#                     exec(code, mod.__dict__)\n",
    "#         finally:\n",
    "#             self.shell.user_ns = save_user_ns\n",
    "#         return mod\n",
    "    \n",
    "# class NotebookFinder(object):\n",
    "#     \"\"\"Module finder that locates IPython Notebooks\"\"\"\n",
    "#     def __init__(self):\n",
    "#         self.loaders = {}\n",
    "    \n",
    "#     def find_module(self, fullname, path=None):\n",
    "#         nb_path = find_notebook(fullname, path)\n",
    "#         if not nb_path:\n",
    "#             return\n",
    "        \n",
    "#         key = path\n",
    "#         if path:\n",
    "#             # lists aren't hashable\n",
    "#             key = os.path.sep.join(path)\n",
    "        \n",
    "#         if key not in self.loaders:\n",
    "#             self.loaders[key] = NotebookLoader(path)\n",
    "#         return self.loaders[key]\n",
    "    \n",
    "# sys.meta_path.append(NotebookFinder())"
   ]
  },
  {
   "cell_type": "code",
   "execution_count": 3,
   "metadata": {
    "collapsed": true
   },
   "outputs": [],
   "source": [
    "# autoreload sets up auto reloading of modified .py modules\n",
    "import autoreload\n",
    "%load_ext autoreload\n",
    "%autoreload 2"
   ]
  },
  {
   "cell_type": "markdown",
   "metadata": {},
   "source": [
    "### load libs"
   ]
  },
  {
   "cell_type": "code",
   "execution_count": 4,
   "metadata": {
    "collapsed": true
   },
   "outputs": [],
   "source": [
    "import mxnet as mx\n",
    "import numpy as np\n",
    "import logging"
   ]
  },
  {
   "cell_type": "code",
   "execution_count": 5,
   "metadata": {
    "collapsed": true
   },
   "outputs": [],
   "source": [
    "from mxgan import module, generator, encoder, viz"
   ]
  },
  {
   "cell_type": "markdown",
   "metadata": {},
   "source": [
    "### metric function"
   ]
  },
  {
   "cell_type": "code",
   "execution_count": 6,
   "metadata": {
    "collapsed": true
   },
   "outputs": [],
   "source": [
    "def ferr(pred, label):\n",
    "    pred = pred.ravel()\n",
    "    label = label.ravel()\n",
    "    return np.abs(label-pred >= 0.5).sum() / label.shape[0] # normalization"
   ]
  },
  {
   "cell_type": "markdown",
   "metadata": {},
   "source": [
    "### hyperparameters"
   ]
  },
  {
   "cell_type": "code",
   "execution_count": 7,
   "metadata": {
    "collapsed": true
   },
   "outputs": [],
   "source": [
    "lr = 0.0005\n",
    "beta1 = 0.5\n",
    "batch_size = 100\n",
    "rand_shape = (batch_size, 100)\n",
    "num_epoch = 100\n",
    "data_shape = (batch_size, 1, 28, 28)\n",
    "context = mx.cpu() # mx.gpu()"
   ]
  },
  {
   "cell_type": "code",
   "execution_count": 8,
   "metadata": {
    "collapsed": true
   },
   "outputs": [],
   "source": [
    "logging.basicConfig(level=logging.DEBUG, format='%(asctime)-%(message)s')\n",
    "\n",
    "sym_gen = generator.dcgan28x28(oshape=data_shape, ngf=32, final_act='sigmoid')"
   ]
  },
  {
   "cell_type": "markdown",
   "metadata": {},
   "source": [
    "### instanciate GAN"
   ]
  },
  {
   "cell_type": "code",
   "execution_count": 9,
   "metadata": {
    "collapsed": true
   },
   "outputs": [],
   "source": [
    "gmod = module.GANModule(\n",
    "            sym_gen,\n",
    "            symbol_encoder=encoder.lenet(),\n",
    "            context=context,\n",
    "            data_shape=data_shape,\n",
    "            code_shape=rand_shape,\n",
    "        )\n",
    "\n",
    "gmod.init_params(mx.init.Xavier(factor_type=\"in\", magnitude=2.34))\n",
    "\n",
    "gmod.init_optimizer(\n",
    "    optimizer=\"adam\",\n",
    "    optimizer_params={\n",
    "        \"learning_rate\": lr,\n",
    "        \"wd\": 0.,\n",
    "        \"beta1\": beta1,\n",
    "})"
   ]
  },
  {
   "cell_type": "markdown",
   "metadata": {},
   "source": [
    "### iterator for mnist"
   ]
  },
  {
   "cell_type": "code",
   "execution_count": 10,
   "metadata": {
    "collapsed": true
   },
   "outputs": [],
   "source": [
    "data_dir = './data/'\n",
    "\n",
    "train_iter = mx.io.MNISTIter(\n",
    "    image = data_dir + \"train-images-idx3-ubyte\",\n",
    "    label = data_dir + \"train-labels-idx1-ubyte\",\n",
    "    input_shape = data_shape[1:],\n",
    "    batch_size = batch_size,\n",
    "    shuffle = True)"
   ]
  },
  {
   "cell_type": "code",
   "execution_count": null,
   "metadata": {
    "collapsed": true
   },
   "outputs": [],
   "source": [
    "metric_acc = mx.metric.CustomMetric(ferr)"
   ]
  },
  {
   "cell_type": "markdown",
   "metadata": {},
   "source": [
    "### train!"
   ]
  },
  {
   "cell_type": "code",
   "execution_count": null,
   "metadata": {},
   "outputs": [
    {
     "name": "stderr",
     "output_type": "stream",
     "text": [
      "%(message)s\n"
     ]
    },
    {
     "name": "stdout",
     "output_type": "stream",
     "text": [
      "iter 0\n",
      "iter 1\n",
      "iter 2\n",
      "iter 3\n",
      "iter 4\n",
      "iter 5\n",
      "iter 6\n",
      "iter 7\n",
      "iter 8\n",
      "iter 9\n",
      "iter 10\n",
      "iter 11\n",
      "iter 12\n",
      "iter 13\n",
      "iter 14\n",
      "iter 15\n",
      "iter 16\n",
      "iter 17\n",
      "iter 18\n",
      "iter 19\n",
      "iter 20\n",
      "iter 21\n",
      "iter 22\n",
      "iter 23\n",
      "iter 24\n",
      "iter 25\n",
      "iter 26\n",
      "iter 27\n",
      "iter 28\n",
      "iter 29\n",
      "iter 30\n",
      "iter 31\n",
      "iter 32\n",
      "iter 33\n",
      "iter 34\n",
      "iter 35\n",
      "iter 36\n",
      "iter 37\n",
      "iter 38\n",
      "iter 39\n",
      "iter 40\n",
      "iter 41\n",
      "iter 42\n",
      "iter 43\n",
      "iter 44\n",
      "iter 45\n",
      "iter 46\n",
      "iter 47\n",
      "iter 48\n",
      "iter 49\n",
      "iter 50\n",
      "iter 51\n",
      "iter 52\n",
      "iter 53\n",
      "iter 54\n",
      "iter 55\n",
      "iter 56\n",
      "iter 57\n",
      "iter 58\n",
      "iter 59\n",
      "iter 60\n",
      "iter 61\n",
      "iter 62\n",
      "iter 63\n",
      "iter 64\n",
      "iter 65\n",
      "iter 66\n",
      "iter 67\n",
      "iter 68\n",
      "iter 69\n",
      "iter 70\n",
      "iter 71\n",
      "iter 72\n",
      "iter 73\n",
      "iter 74\n",
      "iter 75\n",
      "iter 76\n",
      "iter 77\n",
      "iter 78\n",
      "iter 79\n",
      "iter 80\n",
      "iter 81\n",
      "iter 82\n",
      "iter 83\n",
      "iter 84\n",
      "iter 85\n",
      "iter 86\n",
      "iter 87\n",
      "iter 88\n",
      "iter 89\n",
      "iter 90\n",
      "iter 91\n",
      "iter 92\n",
      "iter 93\n",
      "iter 94\n",
      "iter 95\n",
      "iter 96\n",
      "iter 97\n",
      "iter 98\n",
      "iter 99\n"
     ]
    },
    {
     "name": "stderr",
     "output_type": "stream",
     "text": [
      "%(message)s\n"
     ]
    },
    {
     "name": "stdout",
     "output_type": "stream",
     "text": [
      "iter 100\n",
      "iter 101\n",
      "iter 102\n",
      "iter 103\n",
      "iter 104\n",
      "iter 105\n",
      "iter 106\n",
      "iter 107\n",
      "iter 108\n",
      "iter 109\n",
      "iter 110\n",
      "iter 111\n",
      "iter 112\n",
      "iter 113\n",
      "iter 114\n",
      "iter 115\n",
      "iter 116\n",
      "iter 117\n"
     ]
    },
    {
     "ename": "KeyboardInterrupt",
     "evalue": "",
     "output_type": "error",
     "traceback": [
      "\u001b[0;31m---------------------------------------------------------------------------\u001b[0m",
      "\u001b[0;31mKeyboardInterrupt\u001b[0m                         Traceback (most recent call last)",
      "\u001b[0;32m<ipython-input-12-b124412ba287>\u001b[0m in \u001b[0;36m<module>\u001b[0;34m()\u001b[0m\n\u001b[1;32m      2\u001b[0m     \u001b[0mtrain_iter\u001b[0m\u001b[0;34m.\u001b[0m\u001b[0mreset\u001b[0m\u001b[0;34m(\u001b[0m\u001b[0;34m)\u001b[0m\u001b[0;34m\u001b[0m\u001b[0m\n\u001b[1;32m      3\u001b[0m     \u001b[0mmetric_acc\u001b[0m\u001b[0;34m.\u001b[0m\u001b[0mreset\u001b[0m\u001b[0;34m(\u001b[0m\u001b[0;34m)\u001b[0m\u001b[0;34m\u001b[0m\u001b[0m\n\u001b[0;32m----> 4\u001b[0;31m     \u001b[0;32mfor\u001b[0m \u001b[0mt\u001b[0m\u001b[0;34m,\u001b[0m \u001b[0mbatch\u001b[0m \u001b[0;32min\u001b[0m \u001b[0menumerate\u001b[0m\u001b[0;34m(\u001b[0m\u001b[0mtrain_iter\u001b[0m\u001b[0;34m)\u001b[0m\u001b[0;34m:\u001b[0m\u001b[0;34m\u001b[0m\u001b[0m\n\u001b[0m\u001b[1;32m      5\u001b[0m         \u001b[0mgmod\u001b[0m\u001b[0;34m.\u001b[0m\u001b[0mupdate\u001b[0m\u001b[0;34m(\u001b[0m\u001b[0mbatch\u001b[0m\u001b[0;34m)\u001b[0m\u001b[0;34m\u001b[0m\u001b[0m\n\u001b[1;32m      6\u001b[0m         \u001b[0mgmod\u001b[0m\u001b[0;34m.\u001b[0m\u001b[0mtemp_label\u001b[0m\u001b[0;34m[\u001b[0m\u001b[0;34m:\u001b[0m\u001b[0;34m]\u001b[0m \u001b[0;34m=\u001b[0m \u001b[0;36m0.0\u001b[0m\u001b[0;34m\u001b[0m\u001b[0m\n",
      "\u001b[0;32m~/mxnet/lib/python3.5/site-packages/mxnet/io.py\u001b[0m in \u001b[0;36m__next__\u001b[0;34m(self)\u001b[0m\n\u001b[1;32m    221\u001b[0m \u001b[0;34m\u001b[0m\u001b[0m\n\u001b[1;32m    222\u001b[0m     \u001b[0;32mdef\u001b[0m \u001b[0m__next__\u001b[0m\u001b[0;34m(\u001b[0m\u001b[0mself\u001b[0m\u001b[0;34m)\u001b[0m\u001b[0;34m:\u001b[0m\u001b[0;34m\u001b[0m\u001b[0m\n\u001b[0;32m--> 223\u001b[0;31m         \u001b[0;32mreturn\u001b[0m \u001b[0mself\u001b[0m\u001b[0;34m.\u001b[0m\u001b[0mnext\u001b[0m\u001b[0;34m(\u001b[0m\u001b[0;34m)\u001b[0m\u001b[0;34m\u001b[0m\u001b[0m\n\u001b[0m\u001b[1;32m    224\u001b[0m \u001b[0;34m\u001b[0m\u001b[0m\n\u001b[1;32m    225\u001b[0m     \u001b[0;32mdef\u001b[0m \u001b[0miter_next\u001b[0m\u001b[0;34m(\u001b[0m\u001b[0mself\u001b[0m\u001b[0;34m)\u001b[0m\u001b[0;34m:\u001b[0m\u001b[0;34m\u001b[0m\u001b[0m\n",
      "\u001b[0;32m~/mxnet/lib/python3.5/site-packages/mxnet/io.py\u001b[0m in \u001b[0;36mnext\u001b[0;34m(self)\u001b[0m\n\u001b[1;32m    785\u001b[0m         \u001b[0mself\u001b[0m\u001b[0;34m.\u001b[0m\u001b[0m_debug_at_begin\u001b[0m \u001b[0;34m=\u001b[0m \u001b[0;32mFalse\u001b[0m\u001b[0;34m\u001b[0m\u001b[0m\n\u001b[1;32m    786\u001b[0m         \u001b[0mnext_res\u001b[0m \u001b[0;34m=\u001b[0m \u001b[0mctypes\u001b[0m\u001b[0;34m.\u001b[0m\u001b[0mc_int\u001b[0m\u001b[0;34m(\u001b[0m\u001b[0;36m0\u001b[0m\u001b[0;34m)\u001b[0m\u001b[0;34m\u001b[0m\u001b[0m\n\u001b[0;32m--> 787\u001b[0;31m         \u001b[0mcheck_call\u001b[0m\u001b[0;34m(\u001b[0m\u001b[0m_LIB\u001b[0m\u001b[0;34m.\u001b[0m\u001b[0mMXDataIterNext\u001b[0m\u001b[0;34m(\u001b[0m\u001b[0mself\u001b[0m\u001b[0;34m.\u001b[0m\u001b[0mhandle\u001b[0m\u001b[0;34m,\u001b[0m \u001b[0mctypes\u001b[0m\u001b[0;34m.\u001b[0m\u001b[0mbyref\u001b[0m\u001b[0;34m(\u001b[0m\u001b[0mnext_res\u001b[0m\u001b[0;34m)\u001b[0m\u001b[0;34m)\u001b[0m\u001b[0;34m)\u001b[0m\u001b[0;34m\u001b[0m\u001b[0m\n\u001b[0m\u001b[1;32m    788\u001b[0m         \u001b[0;32mif\u001b[0m \u001b[0mnext_res\u001b[0m\u001b[0;34m.\u001b[0m\u001b[0mvalue\u001b[0m\u001b[0;34m:\u001b[0m\u001b[0;34m\u001b[0m\u001b[0m\n\u001b[1;32m    789\u001b[0m             return DataBatch(data=[self.getdata()], label=[self.getlabel()], pad=self.getpad(),\n",
      "\u001b[0;31mKeyboardInterrupt\u001b[0m: "
     ]
    },
    {
     "name": "stderr",
     "output_type": "stream",
     "text": [
      "%(message)s\n",
      "Traceback (most recent call last):\n",
      "  File \"/Users/tantara/mxnet/lib/python3.5/site-packages/zmq/eventloop/zmqstream.py\", line 414, in _run_callback\n",
      "    callback(*args, **kwargs)\n",
      "  File \"/Users/tantara/mxnet/lib/python3.5/site-packages/tornado/stack_context.py\", line 277, in null_wrapper\n",
      "    return fn(*args, **kwargs)\n",
      "  File \"/Users/tantara/mxnet/lib/python3.5/site-packages/ipykernel/kernelbase.py\", line 283, in dispatcher\n",
      "    return self.dispatch_shell(stream, msg)\n",
      "  File \"/Users/tantara/mxnet/lib/python3.5/site-packages/ipykernel/kernelbase.py\", line 235, in dispatch_shell\n",
      "    handler(stream, idents, msg)\n",
      "  File \"/Users/tantara/mxnet/lib/python3.5/site-packages/ipykernel/kernelbase.py\", line 421, in execute_request\n",
      "    self._abort_queues()\n",
      "  File \"/Users/tantara/mxnet/lib/python3.5/site-packages/ipykernel/kernelbase.py\", line 637, in _abort_queues\n",
      "    self._abort_queue(stream)\n",
      "  File \"/Users/tantara/mxnet/lib/python3.5/site-packages/ipykernel/kernelbase.py\", line 657, in _abort_queue\n",
      "    content=status, parent=msg, ident=idents)\n",
      "  File \"/Users/tantara/mxnet/lib/python3.5/site-packages/jupyter_client/session.py\", line 741, in send\n",
      "    stream.send_multipart(to_send, copy=copy)\n",
      "  File \"/Users/tantara/mxnet/lib/python3.5/site-packages/zmq/eventloop/zmqstream.py\", line 260, in send_multipart\n",
      "    self._send_queue.put((msg, kwargs))\n",
      "  File \"/usr/local/Cellar/python3/3.5.2_1/Frameworks/Python.framework/Versions/3.5/lib/python3.5/queue.py\", line 145, in put\n",
      "    self.not_empty.notify()\n",
      "  File \"/usr/local/Cellar/python3/3.5.2_1/Frameworks/Python.framework/Versions/3.5/lib/python3.5/threading.py\", line 342, in notify\n",
      "    if not self._is_owned():\n",
      "  File \"/usr/local/Cellar/python3/3.5.2_1/Frameworks/Python.framework/Versions/3.5/lib/python3.5/threading.py\", line 252, in _is_owned\n",
      "    def _is_owned(self):\n",
      "KeyboardInterrupt\n",
      "%(message)s\n",
      "Traceback (most recent call last):\n",
      "  File \"/Users/tantara/mxnet/lib/python3.5/site-packages/zmq/eventloop/zmqstream.py\", line 440, in _handle_events\n",
      "    self._handle_recv()\n",
      "  File \"/Users/tantara/mxnet/lib/python3.5/site-packages/zmq/eventloop/zmqstream.py\", line 472, in _handle_recv\n",
      "    self._run_callback(callback, msg)\n",
      "  File \"/Users/tantara/mxnet/lib/python3.5/site-packages/zmq/eventloop/zmqstream.py\", line 414, in _run_callback\n",
      "    callback(*args, **kwargs)\n",
      "  File \"/Users/tantara/mxnet/lib/python3.5/site-packages/tornado/stack_context.py\", line 277, in null_wrapper\n",
      "    return fn(*args, **kwargs)\n",
      "  File \"/Users/tantara/mxnet/lib/python3.5/site-packages/ipykernel/kernelbase.py\", line 283, in dispatcher\n",
      "    return self.dispatch_shell(stream, msg)\n",
      "  File \"/Users/tantara/mxnet/lib/python3.5/site-packages/ipykernel/kernelbase.py\", line 235, in dispatch_shell\n",
      "    handler(stream, idents, msg)\n",
      "  File \"/Users/tantara/mxnet/lib/python3.5/site-packages/ipykernel/kernelbase.py\", line 421, in execute_request\n",
      "    self._abort_queues()\n",
      "  File \"/Users/tantara/mxnet/lib/python3.5/site-packages/ipykernel/kernelbase.py\", line 637, in _abort_queues\n",
      "    self._abort_queue(stream)\n",
      "  File \"/Users/tantara/mxnet/lib/python3.5/site-packages/ipykernel/kernelbase.py\", line 657, in _abort_queue\n",
      "    content=status, parent=msg, ident=idents)\n",
      "  File \"/Users/tantara/mxnet/lib/python3.5/site-packages/jupyter_client/session.py\", line 741, in send\n",
      "    stream.send_multipart(to_send, copy=copy)\n",
      "  File \"/Users/tantara/mxnet/lib/python3.5/site-packages/zmq/eventloop/zmqstream.py\", line 260, in send_multipart\n",
      "    self._send_queue.put((msg, kwargs))\n",
      "  File \"/usr/local/Cellar/python3/3.5.2_1/Frameworks/Python.framework/Versions/3.5/lib/python3.5/queue.py\", line 145, in put\n",
      "    self.not_empty.notify()\n",
      "  File \"/usr/local/Cellar/python3/3.5.2_1/Frameworks/Python.framework/Versions/3.5/lib/python3.5/threading.py\", line 342, in notify\n",
      "    if not self._is_owned():\n",
      "  File \"/usr/local/Cellar/python3/3.5.2_1/Frameworks/Python.framework/Versions/3.5/lib/python3.5/threading.py\", line 252, in _is_owned\n",
      "    def _is_owned(self):\n",
      "KeyboardInterrupt\n"
     ]
    }
   ],
   "source": [
    "for epoch in range(num_epoch):\n",
    "    train_iter.reset()\n",
    "    metric_acc.reset()\n",
    "    \n",
    "    for t, batch in enumerate(train_iter):\n",
    "        gmod.update(batch)\n",
    "        gmod.temp_label[:] = 0.0\n",
    "        metric_acc.update([gmod.temp_label], gmod.outputs_fake)\n",
    "        gmod.temp_label[:] = 1.0\n",
    "        metric_acc.update([gmod.temp_label], gmod.outputs_real)\n",
    "        \n",
    "        if t % 100 == 0:\n",
    "            logging.info(\"epoch: %d, iter %d, metric=%s\", epoch, t, metric_acc.get())\n",
    "            viz.imshow(\"gout\", gmod.temp_outG[0].asnumpy(), 2)\n",
    "            diff = gmod.temp_diffD[0].asnumpy()\n",
    "            diff = (diff - diff.mean()) / diff.std() + 0.5\n",
    "            viz.imshow(\"diff\", diff)\n",
    "            viz.imshow(\"data\", batch.data[0].asnumpy(), 2)"
   ]
  },
  {
   "cell_type": "code",
   "execution_count": null,
   "metadata": {
    "collapsed": true
   },
   "outputs": [],
   "source": []
  }
 ],
 "metadata": {
  "kernelspec": {
   "display_name": "Python 3",
   "language": "python",
   "name": "python3"
  },
  "language_info": {
   "codemirror_mode": {
    "name": "ipython",
    "version": 3
   },
   "file_extension": ".py",
   "mimetype": "text/x-python",
   "name": "python",
   "nbconvert_exporter": "python",
   "pygments_lexer": "ipython3",
   "version": "3.5.2"
  }
 },
 "nbformat": 4,
 "nbformat_minor": 2
}
